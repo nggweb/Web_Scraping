{
 "cells": [
  {
   "cell_type": "code",
   "execution_count": 4,
   "id": "35f974f1",
   "metadata": {},
   "outputs": [],
   "source": [
    "import requests \n",
    "from bs4 import BeautifulSoup\n",
    "import csv\n",
    "\n",
    "URL = \"http://www.values.com/inspirational-quotes\"\n",
    "r = requests.get(URL)\n",
    "\n",
    "soup = BeautifulSoup(r.content, \"html5lib\")\n",
    "\n",
    "\n",
    "## list to store quotes\n",
    "quotes=[]\n",
    "\n",
    "table = soup.find('div', attrs = {'id':'all_quotes'})\n",
    "\n",
    "for row in table.findAll('div', attrs = {'class': 'col-6 col-lg-4 text-center margin-30px-bottom sm-margin-30px-top'}):\n",
    "    \n",
    "    # dictionary to save all information about a quote\n",
    "    quote = {}\n",
    "    # access the text inside an HTML element w/ .text\n",
    "    quote['theme'] = row.h5.text\n",
    "    quote['url'] = row.a['href']\n",
    "    quote['img'] = row.img['src']\n",
    "    quote['lines'] = row.img['alt'].split(\" #\")[0]\n",
    "    quote['author'] = row.img['alt'].split(\" #\")[1]\n",
    "    quotes.append(quote)\n",
    "\n",
    "### create a csv file to save quotes\n",
    "\n",
    "file_name = 'inspirational_quotes.csv'\n",
    "with open(file_name, 'w', newline='') as f:\n",
    "    w = csv.DictWriter(f,['theme','url','img','lines','author'])\n",
    "    w.writeheader()\n",
    "    for quote in quotes:\n",
    "        w.writerow(quote)\n",
    "        "
   ]
  },
  {
   "cell_type": "code",
   "execution_count": null,
   "id": "449d6720",
   "metadata": {},
   "outputs": [],
   "source": []
  }
 ],
 "metadata": {
  "kernelspec": {
   "display_name": "Python 3 (ipykernel)",
   "language": "python",
   "name": "python3"
  },
  "language_info": {
   "codemirror_mode": {
    "name": "ipython",
    "version": 3
   },
   "file_extension": ".py",
   "mimetype": "text/x-python",
   "name": "python",
   "nbconvert_exporter": "python",
   "pygments_lexer": "ipython3",
   "version": "3.8.5"
  }
 },
 "nbformat": 4,
 "nbformat_minor": 5
}
