{
 "cells": [
  {
   "cell_type": "code",
   "execution_count": 2,
   "id": "1fbbc126",
   "metadata": {},
   "outputs": [
    {
     "name": "stdout",
     "output_type": "stream",
     "text": [
      "Collecting selenium\n",
      "  Downloading selenium-4.10.0-py3-none-any.whl (6.7 MB)\n",
      "\u001b[2K     \u001b[38;2;114;156;31m━━━━━━━━━━━━━━━━━━━━━━━━━━━━━━━━━━━━━━━━\u001b[0m \u001b[32m6.7/6.7 MB\u001b[0m \u001b[31m1.1 MB/s\u001b[0m eta \u001b[36m0:00:00\u001b[0mm eta \u001b[36m0:00:01\u001b[0m[36m0:00:01\u001b[0m0m\n",
      "\u001b[?25hCollecting trio-websocket~=0.9\n",
      "  Downloading trio_websocket-0.10.3-py3-none-any.whl (17 kB)\n",
      "Requirement already satisfied: urllib3[socks]<3,>=1.26 in /home/ngg/anaconda3/lib/python3.8/site-packages (from selenium) (1.26.4)\n",
      "Collecting certifi>=2021.10.8\n",
      "  Using cached certifi-2023.5.7-py3-none-any.whl (156 kB)\n",
      "Collecting trio~=0.17\n",
      "  Using cached trio-0.22.0-py3-none-any.whl (384 kB)\n",
      "Collecting outcome\n",
      "  Using cached outcome-1.2.0-py2.py3-none-any.whl (9.7 kB)\n",
      "Collecting exceptiongroup>=1.0.0rc9\n",
      "  Using cached exceptiongroup-1.1.1-py3-none-any.whl (14 kB)\n",
      "Requirement already satisfied: sniffio in /home/ngg/anaconda3/lib/python3.8/site-packages (from trio~=0.17->selenium) (1.2.0)\n",
      "Requirement already satisfied: idna in /home/ngg/anaconda3/lib/python3.8/site-packages (from trio~=0.17->selenium) (2.10)\n",
      "Requirement already satisfied: sortedcontainers in /home/ngg/anaconda3/lib/python3.8/site-packages (from trio~=0.17->selenium) (2.3.0)\n",
      "Requirement already satisfied: async-generator>=1.9 in /home/ngg/anaconda3/lib/python3.8/site-packages (from trio~=0.17->selenium) (1.10)\n",
      "Requirement already satisfied: attrs>=19.2.0 in /home/ngg/anaconda3/lib/python3.8/site-packages (from trio~=0.17->selenium) (21.2.0)\n",
      "Collecting wsproto>=0.14\n",
      "  Using cached wsproto-1.2.0-py3-none-any.whl (24 kB)\n",
      "Requirement already satisfied: PySocks!=1.5.7,<2.0,>=1.5.6 in /home/ngg/anaconda3/lib/python3.8/site-packages (from urllib3[socks]<3,>=1.26->selenium) (1.7.1)\n",
      "Collecting h11<1,>=0.9.0\n",
      "  Using cached h11-0.14.0-py3-none-any.whl (58 kB)\n",
      "Installing collected packages: outcome, h11, exceptiongroup, certifi, wsproto, trio, trio-websocket, selenium\n",
      "  Attempting uninstall: certifi\n",
      "    Found existing installation: certifi 2020.12.5\n",
      "    Uninstalling certifi-2020.12.5:\n",
      "      Successfully uninstalled certifi-2020.12.5\n",
      "\u001b[31mERROR: pip's dependency resolver does not currently take into account all the packages that are installed. This behaviour is the source of the following dependency conflicts.\n",
      "anaconda-project 0.10.0 requires ruamel-yaml, which is not installed.\u001b[0m\u001b[31m\n",
      "\u001b[0mSuccessfully installed certifi-2023.5.7 exceptiongroup-1.1.1 h11-0.14.0 outcome-1.2.0 selenium-4.10.0 trio-0.22.0 trio-websocket-0.10.3 wsproto-1.2.0\n",
      "\n",
      "\u001b[1m[\u001b[0m\u001b[34;49mnotice\u001b[0m\u001b[1;39;49m]\u001b[0m\u001b[39;49m A new release of pip available: \u001b[0m\u001b[31;49m22.2.2\u001b[0m\u001b[39;49m -> \u001b[0m\u001b[32;49m23.1.2\u001b[0m\n",
      "\u001b[1m[\u001b[0m\u001b[34;49mnotice\u001b[0m\u001b[1;39;49m]\u001b[0m\u001b[39;49m To update, run: \u001b[0m\u001b[32;49mpython -m pip install --upgrade pip\u001b[0m\n",
      "Note: you may need to restart the kernel to use updated packages.\n"
     ]
    }
   ],
   "source": [
    "pip install selenium"
   ]
  },
  {
   "cell_type": "code",
   "execution_count": 3,
   "id": "39e6f297",
   "metadata": {},
   "outputs": [
    {
     "name": "stdout",
     "output_type": "stream",
     "text": [
      "Collecting webdriver_manager\n",
      "  Downloading webdriver_manager-3.8.6-py2.py3-none-any.whl (27 kB)\n",
      "Requirement already satisfied: requests in /home/ngg/anaconda3/lib/python3.8/site-packages (from webdriver_manager) (2.25.1)\n",
      "Requirement already satisfied: tqdm in /home/ngg/anaconda3/lib/python3.8/site-packages (from webdriver_manager) (4.59.0)\n",
      "Requirement already satisfied: packaging in /home/ngg/anaconda3/lib/python3.8/site-packages (from webdriver_manager) (20.9)\n",
      "Collecting python-dotenv\n",
      "  Using cached python_dotenv-1.0.0-py3-none-any.whl (19 kB)\n",
      "Requirement already satisfied: pyparsing>=2.0.2 in /home/ngg/anaconda3/lib/python3.8/site-packages (from packaging->webdriver_manager) (2.4.7)\n",
      "Requirement already satisfied: idna<3,>=2.5 in /home/ngg/anaconda3/lib/python3.8/site-packages (from requests->webdriver_manager) (2.10)\n",
      "Requirement already satisfied: chardet<5,>=3.0.2 in /home/ngg/anaconda3/lib/python3.8/site-packages (from requests->webdriver_manager) (4.0.0)\n",
      "Requirement already satisfied: certifi>=2017.4.17 in /home/ngg/anaconda3/lib/python3.8/site-packages (from requests->webdriver_manager) (2023.5.7)\n",
      "Requirement already satisfied: urllib3<1.27,>=1.21.1 in /home/ngg/anaconda3/lib/python3.8/site-packages (from requests->webdriver_manager) (1.26.4)\n",
      "Installing collected packages: python-dotenv, webdriver_manager\n",
      "Successfully installed python-dotenv-1.0.0 webdriver_manager-3.8.6\n",
      "\n",
      "\u001b[1m[\u001b[0m\u001b[34;49mnotice\u001b[0m\u001b[1;39;49m]\u001b[0m\u001b[39;49m A new release of pip available: \u001b[0m\u001b[31;49m22.2.2\u001b[0m\u001b[39;49m -> \u001b[0m\u001b[32;49m23.1.2\u001b[0m\n",
      "\u001b[1m[\u001b[0m\u001b[34;49mnotice\u001b[0m\u001b[1;39;49m]\u001b[0m\u001b[39;49m To update, run: \u001b[0m\u001b[32;49mpython -m pip install --upgrade pip\u001b[0m\n",
      "Note: you may need to restart the kernel to use updated packages.\n"
     ]
    }
   ],
   "source": [
    "pip install webdriver_manager"
   ]
  },
  {
   "cell_type": "code",
   "execution_count": 11,
   "id": "f0f732bf",
   "metadata": {},
   "outputs": [
    {
     "name": "stdout",
     "output_type": "stream",
     "text": [
      "[<selenium.webdriver.remote.webelement.WebElement (session=\"2ae9a435b1b678ce3095c0f6d221bf30\", element=\"e76b7938-d362-4d6d-a011-6fc5248912ae\")>, <selenium.webdriver.remote.webelement.WebElement (session=\"2ae9a435b1b678ce3095c0f6d221bf30\", element=\"43520048-0f0d-440a-bbe8-60408a99cc4b\")>, <selenium.webdriver.remote.webelement.WebElement (session=\"2ae9a435b1b678ce3095c0f6d221bf30\", element=\"11a31295-07f1-4f0d-9dc6-7ef1379ffb1f\")>, <selenium.webdriver.remote.webelement.WebElement (session=\"2ae9a435b1b678ce3095c0f6d221bf30\", element=\"c1218cb7-5aa3-4bd8-9bd8-047ea6d8789e\")>, <selenium.webdriver.remote.webelement.WebElement (session=\"2ae9a435b1b678ce3095c0f6d221bf30\", element=\"3196bc04-7883-469b-b5b4-f9de7118c760\")>, <selenium.webdriver.remote.webelement.WebElement (session=\"2ae9a435b1b678ce3095c0f6d221bf30\", element=\"cd115ae4-8218-4ebd-967f-7a064ff0cc7a\")>]\n"
     ]
    }
   ],
   "source": [
    "from selenium import webdriver\n",
    "from selenium.webdriver.chrome.service import Service\n",
    "from selenium.webdriver.common.by import By\n",
    "from webdriver_manager.chrome import ChromeDriverManager\n",
    "\n",
    "for page in range(1, 6):\n",
    "    page_url = \"https://webscraper.io/test-sites/e-commerce/static/computers/laptops?page=\" + str(page)\n",
    "    driver = webdriver.Chrome(service=Service(ChromeDriverManager().install()))\n",
    "    driver.get(page_url)\n",
    "    title = driver.find_elements(By.CLASS_NAME, \"title\")\n",
    "    # Rest of your scraping code here\n",
    "    driver.quit()\n",
    "print(title)"
   ]
  },
  {
   "cell_type": "code",
   "execution_count": 14,
   "id": "ba66d282",
   "metadata": {},
   "outputs": [
    {
     "ename": "IndexError",
     "evalue": "list index out of range",
     "output_type": "error",
     "traceback": [
      "\u001b[0;31m---------------------------------------------------------------------------\u001b[0m",
      "\u001b[0;31mIndexError\u001b[0m                                Traceback (most recent call last)",
      "\u001b[0;32m<ipython-input-14-f4846abc7c24>\u001b[0m in \u001b[0;36m<module>\u001b[0;34m\u001b[0m\n\u001b[1;32m     16\u001b[0m \u001b[0;34m\u001b[0m\u001b[0m\n\u001b[1;32m     17\u001b[0m     \u001b[0;32mfor\u001b[0m \u001b[0mi\u001b[0m \u001b[0;32min\u001b[0m \u001b[0mrange\u001b[0m\u001b[0;34m(\u001b[0m\u001b[0mlen\u001b[0m\u001b[0;34m(\u001b[0m\u001b[0mtitle\u001b[0m\u001b[0;34m)\u001b[0m\u001b[0;34m)\u001b[0m\u001b[0;34m:\u001b[0m\u001b[0;34m\u001b[0m\u001b[0;34m\u001b[0m\u001b[0m\n\u001b[0;32m---> 18\u001b[0;31m         \u001b[0melement_list\u001b[0m\u001b[0;34m.\u001b[0m\u001b[0mappend\u001b[0m\u001b[0;34m(\u001b[0m\u001b[0;34m[\u001b[0m\u001b[0mtitle\u001b[0m\u001b[0;34m[\u001b[0m\u001b[0mi\u001b[0m\u001b[0;34m]\u001b[0m\u001b[0;34m.\u001b[0m\u001b[0mtext\u001b[0m\u001b[0;34m,\u001b[0m \u001b[0mprice\u001b[0m\u001b[0;34m[\u001b[0m\u001b[0mi\u001b[0m\u001b[0;34m]\u001b[0m\u001b[0;34m.\u001b[0m\u001b[0mtext\u001b[0m\u001b[0;34m,\u001b[0m \u001b[0mdescription\u001b[0m\u001b[0;34m[\u001b[0m\u001b[0mi\u001b[0m\u001b[0;34m]\u001b[0m\u001b[0;34m.\u001b[0m\u001b[0mtext\u001b[0m\u001b[0;34m,\u001b[0m \u001b[0mrating\u001b[0m\u001b[0;34m[\u001b[0m\u001b[0mi\u001b[0m\u001b[0;34m]\u001b[0m\u001b[0;34m.\u001b[0m\u001b[0mtext\u001b[0m\u001b[0;34m]\u001b[0m\u001b[0;34m)\u001b[0m\u001b[0;34m\u001b[0m\u001b[0;34m\u001b[0m\u001b[0m\n\u001b[0m\u001b[1;32m     19\u001b[0m \u001b[0;34m\u001b[0m\u001b[0m\n\u001b[1;32m     20\u001b[0m \u001b[0;34m\u001b[0m\u001b[0m\n",
      "\u001b[0;31mIndexError\u001b[0m: list index out of range"
     ]
    }
   ],
   "source": [
    "from selenium import webdriver\n",
    "from selenium.webdriver.chrome.service import Service\n",
    "from selenium.webdriver.common.by import By\n",
    "from webdriver_manager.chrome import ChromeDriverManager\n",
    "\n",
    "element_list = []\n",
    "\n",
    "for page in range(1, 6):\n",
    "    page_url = \"https://webscraper.io/test-sites/e-commerce/static/computers/laptops?page=\" + str(page)\n",
    "    driver = webdriver.Chrome(service=Service(ChromeDriverManager().install()))\n",
    "    driver.get(page_url)\n",
    "    title = driver.find_elements(By.CLASS_NAME, \"title\")\n",
    "    price = driver.find_elements(By.CLASS_NAME, \"price\")\n",
    "    description = driver.find_elements(By.CLASS_NAME, \"description\")\n",
    "    rating =driver.find_elements(By.CLASS_NAME, \"rating\")\n",
    "    \n",
    "    for i in range(len(title)):\n",
    "        element_list.append([title[i].text, price[i].text, description[i].text, rating[i].text])\n",
    "        \n",
    "        \n",
    "print(element_list)\n",
    "\n",
    "#closing the driver\n",
    "driver.close\n",
    "    \n"
   ]
  },
  {
   "cell_type": "code",
   "execution_count": 59,
   "id": "6a5cbaca",
   "metadata": {},
   "outputs": [
    {
     "name": "stdout",
     "output_type": "stream",
     "text": [
      "'Packard 255 G2'\n",
      "'$416.99'\n",
      "'15.6\", AMD E2-3800 1.3GHz, 4GB, 500GB, Windows 8.1'\n",
      "'2 reviews'\n",
      "'Aspire E1-510'\n",
      "'$306.99'\n",
      "'15.6\", Pentium N3520 2.16GHz, 4GB, 500GB, Linux'\n",
      "'2 reviews'\n",
      "'ThinkPad T540p'\n",
      "'$1178.99'\n",
      "'15.6\", Core i5-4200M, 4GB, 500GB, Win7 Pro 64bit'\n",
      "'2 reviews'\n",
      "'ProBook'\n",
      "'$739.99'\n",
      "'14\", Core i5 2.6GHz, 4GB, 500GB, Win7 Pro 64bit'\n",
      "'8 reviews'\n",
      "'ThinkPad X240'\n",
      "'$1311.99'\n",
      "'12.5\", Core i5-4300U, 8GB, 240GB SSD, Win7 Pro 64bit'\n",
      "'12 reviews'\n",
      "'Aspire E1-572G'\n",
      "'$581.99'\n",
      "'15.6\", Core i5-4200U, 8GB, 1TB, Radeon R7 M265, Windows 8.1'\n",
      "'2 reviews'\n",
      "'ThinkPad Yoga'\n",
      "'$1033.99'\n",
      "'12.5\" Touch, Core i3-4010U, 4GB, 500GB + 16GB SSD Cache,'\n",
      "'13 reviews'\n",
      "'Pavilion'\n",
      "'$609.99'\n",
      "'15.6\", Core i5-4200U, 6GB, 750GB, Windows 8.1'\n",
      "'4 reviews'\n",
      "'Inspiron 15'\n",
      "'$745.99'\n",
      "'Moon Silver, 15.6\", Core i7-4510U, 8GB, 1TB, Radeon HD R7 M265 2GB,'\n",
      "'12 reviews'\n",
      "'Dell XPS 13'\n",
      "'$1281.99'\n",
      "'13.3\" Touch, Core i5-4210U, 8GB, 128GB SSD, Windows 8.1'\n",
      "'4 reviews'\n",
      "'ThinkPad X230'\n",
      "'$1244.99'\n",
      "'12.5\", Core i5 2.6GHz, 8GB, 180GB SSD, Win7 Pro 64bit'\n",
      "'10 reviews'\n",
      "'HP 250 G3'\n",
      "'$520.99'\n",
      "'15.6\", Core i5-4210U, 4GB, 500GB, Windows 8.1'\n",
      "'13 reviews'\n"
     ]
    }
   ],
   "source": [
    "from selenium import webdriver\n",
    "from selenium.webdriver.chrome.service import Service\n",
    "from selenium.webdriver.common.by import By\n",
    "from webdriver_manager.chrome import ChromeDriverManager\n",
    "from pprint import pprint\n",
    "\n",
    "element_list = []\n",
    "\n",
    "for page in range(1, 3, 1):\n",
    "    page_url = \"https://webscraper.io/test-sites/e-commerce/static/computers/laptops?page=\" + str(page)\n",
    "    driver = webdriver.Chrome(service=Service(ChromeDriverManager().install()))\n",
    "    driver.get(page_url)\n",
    "    \n",
    "    title = driver.find_elements(By.CLASS_NAME, \"title\")\n",
    "    price = driver.find_elements(By.CLASS_NAME, \"price\")\n",
    "    description = driver.find_elements(By.CLASS_NAME, \"description\")\n",
    "    rating = driver.find_elements(By.CLASS_NAME, \"ratings\")\n",
    "    \n",
    "    for t, p, d, r in zip(title, price, description, rating):\n",
    "        element_list.append([t.text, p.text, d.text, r.text])\n",
    "    \n",
    "    driver.quit()\n",
    "    \n",
    "for item in element_list:\n",
    "    title = item[0]\n",
    "    price = item[1]\n",
    "    description = item[2]\n",
    "    rating = item[3]\n",
    "    pprint(title)\n",
    "    pprint(price)\n",
    "    pprint(description)\n",
    "    pprint(rating)"
   ]
  },
  {
   "cell_type": "code",
   "execution_count": 25,
   "id": "446c358a",
   "metadata": {},
   "outputs": [
    {
     "name": "stdout",
     "output_type": "stream",
     "text": [
      "[['Packard 255 G2', '$416.99', '15.6\", AMD E2-3800 1.3GHz, 4GB, 500GB, Windows 8.1', '2 reviews'], ['Aspire E1-510', '$306.99', '15.6\", Pentium N3520 2.16GHz, 4GB, 500GB, Linux', '2 reviews'], ['ThinkPad T540p', '$1178.99', '15.6\", Core i5-4200M, 4GB, 500GB, Win7 Pro 64bit', '2 reviews'], ['ProBook', '$739.99', '14\", Core i5 2.6GHz, 4GB, 500GB, Win7 Pro 64bit', '8 reviews'], ['ThinkPad X240', '$1311.99', '12.5\", Core i5-4300U, 8GB, 240GB SSD, Win7 Pro 64bit', '12 reviews'], ['Aspire E1-572G', '$581.99', '15.6\", Core i5-4200U, 8GB, 1TB, Radeon R7 M265, Windows 8.1', '2 reviews'], ['ThinkPad Yoga', '$1033.99', '12.5\" Touch, Core i3-4010U, 4GB, 500GB + 16GB SSD Cache,', '13 reviews'], ['Pavilion', '$609.99', '15.6\", Core i5-4200U, 6GB, 750GB, Windows 8.1', '4 reviews'], ['Inspiron 15', '$745.99', 'Moon Silver, 15.6\", Core i7-4510U, 8GB, 1TB, Radeon HD R7 M265 2GB,', '12 reviews'], ['Dell XPS 13', '$1281.99', '13.3\" Touch, Core i5-4210U, 8GB, 128GB SSD, Windows 8.1', '4 reviews'], ['ThinkPad X230', '$1244.99', '12.5\", Core i5 2.6GHz, 8GB, 180GB SSD, Win7 Pro 64bit', '10 reviews'], ['HP 250 G3', '$520.99', '15.6\", Core i5-4210U, 4GB, 500GB, Windows 8.1', '13 reviews']]\n"
     ]
    }
   ],
   "source": [
    "print(element_list)"
   ]
  },
  {
   "cell_type": "code",
   "execution_count": 32,
   "id": "d417ca6d",
   "metadata": {},
   "outputs": [
    {
     "name": "stderr",
     "output_type": "stream",
     "text": [
      "\r",
      "[WDM] - Downloading: 100%|██████████| 6.96M/6.96M [1:24:30<00:00, 1.44kB/s]"
     ]
    },
    {
     "name": "stdout",
     "output_type": "stream",
     "text": [
      "[['Packard 255 G2',\n",
      "  '$416.99',\n",
      "  '15.6\", AMD E2-3800 1.3GHz, 4GB, 500GB, Windows 8.1',\n",
      "  '2 reviews'],\n",
      " ['Aspire E1-510',\n",
      "  '$306.99',\n",
      "  '15.6\", Pentium N3520 2.16GHz, 4GB, 500GB, Linux',\n",
      "  '2 reviews'],\n",
      " ['ThinkPad T540p',\n",
      "  '$1178.99',\n",
      "  '15.6\", Core i5-4200M, 4GB, 500GB, Win7 Pro 64bit',\n",
      "  '2 reviews'],\n",
      " ['ProBook',\n",
      "  '$739.99',\n",
      "  '14\", Core i5 2.6GHz, 4GB, 500GB, Win7 Pro 64bit',\n",
      "  '8 reviews'],\n",
      " ['ThinkPad X240',\n",
      "  '$1311.99',\n",
      "  '12.5\", Core i5-4300U, 8GB, 240GB SSD, Win7 Pro 64bit',\n",
      "  '12 reviews'],\n",
      " ['Aspire E1-572G',\n",
      "  '$581.99',\n",
      "  '15.6\", Core i5-4200U, 8GB, 1TB, Radeon R7 M265, Windows 8.1',\n",
      "  '2 reviews'],\n",
      " ['ThinkPad Yoga',\n",
      "  '$1033.99',\n",
      "  '12.5\" Touch, Core i3-4010U, 4GB, 500GB + 16GB SSD Cache,',\n",
      "  '13 reviews'],\n",
      " ['Pavilion',\n",
      "  '$609.99',\n",
      "  '15.6\", Core i5-4200U, 6GB, 750GB, Windows 8.1',\n",
      "  '4 reviews'],\n",
      " ['Inspiron 15',\n",
      "  '$745.99',\n",
      "  'Moon Silver, 15.6\", Core i7-4510U, 8GB, 1TB, Radeon HD R7 M265 2GB,',\n",
      "  '12 reviews'],\n",
      " ['Dell XPS 13',\n",
      "  '$1281.99',\n",
      "  '13.3\" Touch, Core i5-4210U, 8GB, 128GB SSD, Windows 8.1',\n",
      "  '4 reviews'],\n",
      " ['ThinkPad X230',\n",
      "  '$1244.99',\n",
      "  '12.5\", Core i5 2.6GHz, 8GB, 180GB SSD, Win7 Pro 64bit',\n",
      "  '10 reviews'],\n",
      " ['HP 250 G3',\n",
      "  '$520.99',\n",
      "  '15.6\", Core i5-4210U, 4GB, 500GB, Windows 8.1',\n",
      "  '13 reviews']]\n"
     ]
    },
    {
     "name": "stderr",
     "output_type": "stream",
     "text": [
      "\n"
     ]
    }
   ],
   "source": [
    "from selenium import webdriver\n",
    "from selenium.webdriver.chrome.service import Service\n",
    "from selenium.webdriver.common.by import By\n",
    "from webdriver_manager.chrome import ChromeDriverManager\n",
    "from pprint import pprint\n",
    "\n",
    "element_list = []\n",
    "\n",
    "for page in range(1, 3, 1):\n",
    "    page_url = \"https://webscraper.io/test-sites/e-commerce/static/computers/laptops?page=\" + str(page)\n",
    "    driver = webdriver.Chrome(service=Service(ChromeDriverManager().install()))\n",
    "    driver.get(page_url)\n",
    "\n",
    "    title = driver.find_elements(By.CLASS_NAME, \"title\")\n",
    "    price = driver.find_elements(By.CLASS_NAME, \"price\")\n",
    "    description = driver.find_elements(By.CLASS_NAME, \"description\")\n",
    "    rating = driver.find_elements(By.CLASS_NAME, \"ratings\")\n",
    "\n",
    "    for t, p, d, r in zip(title, price, description, rating):\n",
    "        element_list.append([t.text, p.text, d.text, r.text])\n",
    "\n",
    "    driver.quit()\n",
    "\n",
    "pprint(element_list)"
   ]
  },
  {
   "cell_type": "code",
   "execution_count": 33,
   "id": "dcd12252",
   "metadata": {},
   "outputs": [
    {
     "name": "stdout",
     "output_type": "stream",
     "text": [
      "['Packard 255 G2', '$416.99', '15.6\", AMD E2-3800 1.3GHz, 4GB, 500GB, Windows 8.1', '2 reviews']\n",
      "['Aspire E1-510', '$306.99', '15.6\", Pentium N3520 2.16GHz, 4GB, 500GB, Linux', '2 reviews']\n",
      "['ThinkPad T540p', '$1178.99', '15.6\", Core i5-4200M, 4GB, 500GB, Win7 Pro 64bit', '2 reviews']\n",
      "['ProBook', '$739.99', '14\", Core i5 2.6GHz, 4GB, 500GB, Win7 Pro 64bit', '8 reviews']\n",
      "['ThinkPad X240', '$1311.99', '12.5\", Core i5-4300U, 8GB, 240GB SSD, Win7 Pro 64bit', '12 reviews']\n",
      "['Aspire E1-572G', '$581.99', '15.6\", Core i5-4200U, 8GB, 1TB, Radeon R7 M265, Windows 8.1', '2 reviews']\n",
      "['ThinkPad Yoga', '$1033.99', '12.5\" Touch, Core i3-4010U, 4GB, 500GB + 16GB SSD Cache,', '13 reviews']\n",
      "['Pavilion', '$609.99', '15.6\", Core i5-4200U, 6GB, 750GB, Windows 8.1', '4 reviews']\n",
      "['Inspiron 15', '$745.99', 'Moon Silver, 15.6\", Core i7-4510U, 8GB, 1TB, Radeon HD R7 M265 2GB,', '12 reviews']\n",
      "['Dell XPS 13', '$1281.99', '13.3\" Touch, Core i5-4210U, 8GB, 128GB SSD, Windows 8.1', '4 reviews']\n",
      "['ThinkPad X230', '$1244.99', '12.5\", Core i5 2.6GHz, 8GB, 180GB SSD, Win7 Pro 64bit', '10 reviews']\n",
      "['HP 250 G3', '$520.99', '15.6\", Core i5-4210U, 4GB, 500GB, Windows 8.1', '13 reviews']\n"
     ]
    }
   ],
   "source": [
    "for title in element_list:\n",
    "    print(title)"
   ]
  },
  {
   "cell_type": "code",
   "execution_count": 46,
   "id": "ae235338",
   "metadata": {},
   "outputs": [
    {
     "name": "stderr",
     "output_type": "stream",
     "text": [
      "[WDM] - Downloading:  96%|█████████▋| 6.70M/6.96M [00:06<00:00, 454kB/s] "
     ]
    },
    {
     "name": "stdout",
     "output_type": "stream",
     "text": [
      "'Packard 255 G2'\n",
      "'Aspire E1-510'\n",
      "'ThinkPad T540p'\n",
      "'ProBook'\n",
      "'ThinkPad X240'\n",
      "'Aspire E1-572G'\n",
      "'ThinkPad Yoga'\n",
      "'Pavilion'\n",
      "'Inspiron 15'\n",
      "'Dell XPS 13'\n",
      "'ThinkPad X230'\n",
      "'HP 250 G3'\n"
     ]
    },
    {
     "name": "stderr",
     "output_type": "stream",
     "text": [
      "\r",
      "[WDM] - Downloading: 100%|██████████| 6.96M/6.96M [00:20<00:00, 454kB/s]"
     ]
    }
   ],
   "source": [
    "from selenium import webdriver\n",
    "from selenium.webdriver.chrome.service import Service\n",
    "from selenium.webdriver.common.by import By\n",
    "from webdriver_manager.chrome import ChromeDriverManager\n",
    "from pprint import pprint\n",
    "\n",
    "element_list = []\n",
    "\n",
    "for page in range(1, 3, 1):\n",
    "    page_url = \"https://webscraper.io/test-sites/e-commerce/static/computers/laptops?page=\" + str(page)\n",
    "    driver = webdriver.Chrome(service=Service(ChromeDriverManager().install()))\n",
    "    driver.get(page_url)\n",
    "\n",
    "    title = driver.find_elements(By.CLASS_NAME, \"title\")\n",
    "\n",
    "    for t in title:\n",
    "        element_list.append(t.text)\n",
    "\n",
    "    driver.quit()\n",
    "\n",
    "# Print only the titles\n",
    "for title in element_list:\n",
    "    pprint(title)"
   ]
  },
  {
   "cell_type": "code",
   "execution_count": 36,
   "id": "d5214d62",
   "metadata": {},
   "outputs": [
    {
     "name": "stdout",
     "output_type": "stream",
     "text": [
      "$416.99\n",
      "$306.99\n",
      "$1178.99\n",
      "$739.99\n",
      "$1311.99\n",
      "$581.99\n",
      "$1033.99\n",
      "$609.99\n",
      "$745.99\n",
      "$1281.99\n",
      "$1244.99\n",
      "$520.99\n"
     ]
    }
   ],
   "source": [
    "from selenium import webdriver\n",
    "from selenium.webdriver.chrome.service import Service\n",
    "from selenium.webdriver.common.by import By\n",
    "from webdriver_manager.chrome import ChromeDriverManager\n",
    "\n",
    "element_list = []\n",
    "\n",
    "for page in range(1, 3, 1):\n",
    "    page_url = \"https://webscraper.io/test-sites/e-commerce/static/computers/laptops?page=\" + str(page)\n",
    "    driver = webdriver.Chrome(service=Service(ChromeDriverManager().install()))\n",
    "    driver.get(page_url)\n",
    "\n",
    "    price = driver.find_elements(By.CLASS_NAME, \"price\")\n",
    "\n",
    "    for p in price:\n",
    "        element_list.append(p.text)\n",
    "\n",
    "    driver.quit()\n",
    "\n",
    "# Print only the titles\n",
    "for price in element_list:\n",
    "    print(price)"
   ]
  },
  {
   "cell_type": "code",
   "execution_count": 48,
   "id": "d50616e9",
   "metadata": {},
   "outputs": [
    {
     "name": "stdout",
     "output_type": "stream",
     "text": [
      "'15.6\", AMD E2-3800 1.3GHz, 4GB, 500GB, Windows 8.1'\n",
      "'15.6\", Pentium N3520 2.16GHz, 4GB, 500GB, Linux'\n",
      "'15.6\", Core i5-4200M, 4GB, 500GB, Win7 Pro 64bit'\n",
      "'14\", Core i5 2.6GHz, 4GB, 500GB, Win7 Pro 64bit'\n",
      "'12.5\", Core i5-4300U, 8GB, 240GB SSD, Win7 Pro 64bit'\n",
      "'15.6\", Core i5-4200U, 8GB, 1TB, Radeon R7 M265, Windows 8.1'\n",
      "'12.5\" Touch, Core i3-4010U, 4GB, 500GB + 16GB SSD Cache,'\n",
      "'15.6\", Core i5-4200U, 6GB, 750GB, Windows 8.1'\n",
      "'Moon Silver, 15.6\", Core i7-4510U, 8GB, 1TB, Radeon HD R7 M265 2GB,'\n",
      "'13.3\" Touch, Core i5-4210U, 8GB, 128GB SSD, Windows 8.1'\n",
      "'12.5\", Core i5 2.6GHz, 8GB, 180GB SSD, Win7 Pro 64bit'\n",
      "'15.6\", Core i5-4210U, 4GB, 500GB, Windows 8.1'\n"
     ]
    }
   ],
   "source": [
    "from selenium import webdriver\n",
    "from selenium.webdriver.chrome.service import Service\n",
    "from selenium.webdriver.common.by import By\n",
    "from webdriver_manager.chrome import ChromeDriverManager\n",
    "from pprint import pprint\n",
    "\n",
    "element_list = []\n",
    "\n",
    "for page in range(1, 3, 1):\n",
    "    page_url = \"https://webscraper.io/test-sites/e-commerce/static/computers/laptops?page=\" + str(page)\n",
    "    driver = webdriver.Chrome(service=Service(ChromeDriverManager().install()))\n",
    "    driver.get(page_url)\n",
    "    \n",
    "    description = driver.find_elements(By.CLASS_NAME, \"description\")\n",
    "    \n",
    "    for d in description:\n",
    "        element_list.append(d.text)\n",
    "        \n",
    "    driver.quit()\n",
    "    \n",
    "for description in element_list:\n",
    "    pprint(description)"
   ]
  },
  {
   "cell_type": "code",
   "execution_count": 45,
   "id": "4efef0c1",
   "metadata": {},
   "outputs": [],
   "source": []
  },
  {
   "cell_type": "code",
   "execution_count": null,
   "id": "20224b39",
   "metadata": {},
   "outputs": [],
   "source": []
  }
 ],
 "metadata": {
  "kernelspec": {
   "display_name": "Python 3 (ipykernel)",
   "language": "python",
   "name": "python3"
  },
  "language_info": {
   "codemirror_mode": {
    "name": "ipython",
    "version": 3
   },
   "file_extension": ".py",
   "mimetype": "text/x-python",
   "name": "python",
   "nbconvert_exporter": "python",
   "pygments_lexer": "ipython3",
   "version": "3.8.5"
  }
 },
 "nbformat": 4,
 "nbformat_minor": 5
}
